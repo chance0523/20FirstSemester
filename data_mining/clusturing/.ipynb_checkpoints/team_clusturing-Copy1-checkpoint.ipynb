{
 "cells": [
  {
   "cell_type": "code",
   "execution_count": 29,
   "metadata": {},
   "outputs": [],
   "source": [
    "# text 파일 불러와서 dataframe으로 만들기\n",
    "\n",
    "import pandas as pd\n",
    "\n",
    "df=pd.read_csv('c:/python/iris.txt', sep=' ', index_col=0)\n",
    "df.head()\n",
    "\n",
    "# KMeans Clustering\n",
    "\n",
    "from sklearn.cluster import KMeans\n",
    "\n",
    "# df의 'Species' row를 제거하고 clusturing\n",
    "df_num=df[['Sepal.Length','Sepal.Width','Petal.Length','Petal.Width']]\n",
    "df_num.head()\n",
    "\n",
    "kmeans=KMeans(n_clusters=3).fit(df_num)\n",
    "kmeans\n",
    "\n",
    "centroids=kmeans.cluster_centers_\n",
    "centroids\n",
    "\n",
    "import matplotlib.pyplot as plt\n",
    "\n",
    "plt.scatter(df_num['Sepal.Length'],\n",
    "            df_num['Sepal.Width'],\n",
    "            c=kmeans.labels_.astype(float),s=20,alpha=5)\n",
    "plt.scatter(centroids[:,0],centroids[:,1],c='red',s=50)\n",
    "plt.show()\n",
    "\n"
   ]
  }
 ],
 "metadata": {
  "kernelspec": {
   "display_name": "Python 3",
   "language": "python",
   "name": "python3"
  },
  "language_info": {
   "codemirror_mode": {
    "name": "ipython",
    "version": 3
   },
   "file_extension": ".py",
   "mimetype": "text/x-python",
   "name": "python",
   "nbconvert_exporter": "python",
   "pygments_lexer": "ipython3",
   "version": "3.7.3"
  }
 },
 "nbformat": 4,
 "nbformat_minor": 2
}
