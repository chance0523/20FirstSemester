{
 "cells": [
  {
   "cell_type": "code",
   "execution_count": 1,
   "metadata": {},
   "outputs": [
    {
     "data": {
      "text/plain": [
       "<Figure size 640x480 with 1 Axes>"
      ]
     },
     "metadata": {},
     "output_type": "display_data"
    },
    {
     "data": {
      "text/plain": [
       "<Figure size 640x480 with 1 Axes>"
      ]
     },
     "metadata": {},
     "output_type": "display_data"
    }
   ],
   "source": [
    "import numpy as np\n",
    "import matplotlib.pyplot as plt\n",
    "from matplotlib.colors import ListedColormap\n",
    "from sklearn import neighbors, datasets\n",
    "\n",
    "n_neighbors = 15\n",
    "\n",
    "# import some data to play with\n",
    "iris = datasets.load_iris() # iris 데이타 업로드\n",
    "#print(iris)\n",
    "\n",
    "# we only take the first two features. We could avoid this ugly\n",
    "# slicing by using a two-dim dataset\n",
    "X = iris.data[:, :2] # iris 데이타 중 너비,높이를 x값으로 지정\n",
    "y = iris.target # y값으로 타겟 (꽃 종)\n",
    "#print(y)\n",
    "h = .02  # step size in the mesh #그물망에서  좌표사이의 거리\n",
    "\n",
    "# Create color maps\n",
    "cmap_light = ListedColormap(['Yellow', 'gray', 'cornflowerblue']) #맵색깔\n",
    "cmap_bold = ListedColormap(['green', 'red', 'darkblue'])#점색깔\n",
    "\n",
    "for weights in ['uniform', 'distance']:    #weights = \"uniform\"은 가까운 이웃들의 단순한 평균을 구하는 것, weights = \"distance\" 는 각 이웃이 얼마나 가까이 있는지에 따라 가중 평균(weighted average)을 구하는 것 \n",
    "                                                   #거리가 가까울수록 데이터가 더 유사할 것이라고 보고 가중치를 부여하는 거다.    \n",
    "    clf = neighbors.KNeighborsClassifier(n_neighbors, weights=weights) # knn 적용 n_neighbors는 위에서 지정한 15, weights은 uniform과, distance \n",
    "    clf.fit(X, y)# knn 적용\n",
    "\n",
    "    # Plot the decision boundary. For that, we will assign a color to each\n",
    "    # point in the mesh [x_min, x_max]x[y_min, y_max].\n",
    "    x_min, x_max = X[:, 0].min() - 1, X[:, 0].max() + 1 # x데이터의 첫번째값인 꽃잎길이의 최소값 -1, 최대값 +1\n",
    "    y_min, y_max = X[:, 1].min() - 1, X[:, 1].max() + 1 # x데이터의 두번째값인 꽃잎너비의 최소값 -1, 최대값 +1\n",
    "    xx, yy = np.meshgrid(np.arange(x_min, x_max, h), # 격자의 교차점 좌표를 편리하게 다룰 수 있도록 값을 리턴하는 함수\n",
    "                         np.arange(y_min, y_max, h)) # x와 y의 범위까지의 정수를 좌표로 하는 교차점의 위치를 찍어주는 코드, \n",
    "                                                     # 즉, 꽃잎길이, 꽃잎너비가 분포하는 좌표격자 교차점을 h의 간격으로 만듦\n",
    "    # xx,yy를 ravel()이용해 1차원 배열로 한줄로 쭉만듦\n",
    "    Z = clf.predict(np.c_[xx.ravel(), yy.ravel()]) \n",
    "\n",
    "    # Put the result into a color plot\n",
    "    Z = Z.reshape(xx.shape) # Z를 reshape()을 이용해 원래 배열 모양으로 복원\n",
    "    plt.figure() # 시각화 그래프 사이즈 (현재 default 값)\n",
    "    # xx,yy,Z 의 좌표와 배경색 설정 cmap_light는 이미 위에서 설정해줌\n",
    "    plt.pcolormesh(xx, yy, Z, cmap=cmap_light) \n",
    "    \n",
    "    # Plot also the training points\n",
    "    # X 데이터 첫번째, 두번째값으로 분포도 작성, c는 색깔지정(확실하지않음)\n",
    "    # camp= 점의 색깔, edgecolor는 가장자리 색깔, s는 마커크기\n",
    "    plt.scatter(X[:, 0], X[:, 1], c=y, cmap=cmap_bold, \n",
    "                edgecolor='k', s=20)\n",
    "    \n",
    "    plt.xlim(xx.min(), xx.max()) # X축 범위 시각화\n",
    "    plt.ylim(yy.min(), yy.max()) # y축 범위 시각화\n",
    "    \n",
    "    # 타이틀 설정/ k개수와 가중치방법\n",
    "    plt.title(\"3-Class classification (k = %i, weights = '%s')\" \n",
    "              % (n_neighbors, weights))\n",
    "\n",
    "plt.show() # 값 출력"
   ]
  },
  {
   "cell_type": "code",
   "execution_count": null,
   "metadata": {},
   "outputs": [],
   "source": []
  }
 ],
 "metadata": {
  "kernelspec": {
   "display_name": "Python 3",
   "language": "python",
   "name": "python3"
  },
  "language_info": {
   "codemirror_mode": {
    "name": "ipython",
    "version": 3
   },
   "file_extension": ".py",
   "mimetype": "text/x-python",
   "name": "python",
   "nbconvert_exporter": "python",
   "pygments_lexer": "ipython3",
   "version": "3.7.3"
  }
 },
 "nbformat": 4,
 "nbformat_minor": 2
}
