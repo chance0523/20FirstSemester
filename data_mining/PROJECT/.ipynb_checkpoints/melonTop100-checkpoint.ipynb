{
 "cells": [
  {
   "cell_type": "markdown",
   "metadata": {},
   "source": [
    "### 노래 제목 데이터 수집"
   ]
  },
  {
   "cell_type": "code",
   "execution_count": 1,
   "metadata": {},
   "outputs": [],
   "source": [
    "import urllib.request\n",
    "from bs4 import BeautifulSoup\n",
    "import csv"
   ]
  },
  {
   "cell_type": "code",
   "execution_count": 2,
   "metadata": {},
   "outputs": [],
   "source": [
    "hdr={'User-Agent':'Mozilla/5.0'}\n",
    "url='https://www.melon.com/chart/index.htm'"
   ]
  },
  {
   "cell_type": "code",
   "execution_count": 3,
   "metadata": {},
   "outputs": [],
   "source": [
    "req=urllib.request.Request(url,headers=hdr)\n",
    "html=urllib.request.urlopen(req).read()\n",
    "\n",
    "soup=BeautifulSoup(html,'html.parser')"
   ]
  },
  {
   "cell_type": "markdown",
   "metadata": {},
   "source": [
    "### 50위까지 받기"
   ]
  },
  {
   "cell_type": "code",
   "execution_count": 4,
   "metadata": {},
   "outputs": [],
   "source": [
    "lst50=soup.select('.lst50')"
   ]
  },
  {
   "cell_type": "code",
   "execution_count": 5,
   "metadata": {},
   "outputs": [
    {
     "name": "stdout",
     "output_type": "stream",
     "text": [
      "1위 에잇(Prod.&Feat. SUGA of BTS) 아이유 에잇\n"
     ]
    }
   ],
   "source": [
    "for i in lst50:\n",
    "    print(i.select_one('.rank').text,end='위 ')\n",
    "    print(i.select_one('.ellipsis.rank01').a.text,end=' ')\n",
    "    print(i.select_one('.ellipsis.rank02').a.text,end=' ')\n",
    "    print(i.select_one('.ellipsis.rank03').a.text)\n",
    "    break"
   ]
  },
  {
   "cell_type": "markdown",
   "metadata": {},
   "source": [
    "### 100위까지 받기"
   ]
  },
  {
   "cell_type": "code",
   "execution_count": 6,
   "metadata": {},
   "outputs": [],
   "source": [
    "lst100=soup.select('.lst100')"
   ]
  },
  {
   "cell_type": "code",
   "execution_count": 7,
   "metadata": {},
   "outputs": [
    {
     "name": "stdout",
     "output_type": "stream",
     "text": [
      "51위 Inner Child 방탄소년단 MAP OF THE SOUL : 7\n"
     ]
    }
   ],
   "source": [
    "for i in lst100:\n",
    "    print(i.select_one('.rank').text,end='위 ')\n",
    "    print(i.select_one('.ellipsis.rank01').a.text,end=' ')\n",
    "    print(i.select_one('.ellipsis.rank02').a.text,end=' ')\n",
    "    print(i.select_one('.ellipsis.rank03').a.text)\n",
    "    break"
   ]
  },
  {
   "cell_type": "markdown",
   "metadata": {},
   "source": [
    "### 장르 가져오기"
   ]
  },
  {
   "cell_type": "code",
   "execution_count": 8,
   "metadata": {},
   "outputs": [],
   "source": [
    "def get_genre(n):\n",
    "    # 뒤에 붙을 링크 따오기\n",
    "    link=(n.find_all('a',class_='btn'))[0]['href'].split(\"'\")[1]\n",
    "    url=f'https://www.melon.com/song/detail.htm?songId={link}'\n",
    "    \n",
    "    req=urllib.request.Request(url,headers=hdr)\n",
    "    html=urllib.request.urlopen(req).read()\n",
    "    soup=BeautifulSoup(html,'html.parser')\n",
    "    \n",
    "    genreloc=soup.select('#downloadfrm > div > div > div.entry > div.meta > dl > dd')\n",
    "    genre= genreloc[2].text\n",
    "    return genre"
   ]
  },
  {
   "cell_type": "markdown",
   "metadata": {},
   "source": [
    "### 한번에 저장"
   ]
  },
  {
   "cell_type": "code",
   "execution_count": 9,
   "metadata": {},
   "outputs": [],
   "source": [
    "lst100=soup.select('.lst50,.lst100')"
   ]
  },
  {
   "cell_type": "code",
   "execution_count": 11,
   "metadata": {},
   "outputs": [
    {
     "data": {
      "application/vnd.jupyter.widget-view+json": {
       "model_id": "58d83cf9e4b949669f35037450bbc5e2",
       "version_major": 2,
       "version_minor": 0
      },
      "text/plain": [
       "HBox(children=(FloatProgress(value=0.0), HTML(value='')))"
      ]
     },
     "metadata": {},
     "output_type": "display_data"
    },
    {
     "name": "stdout",
     "output_type": "stream",
     "text": [
      "\n"
     ]
    }
   ],
   "source": [
    "from tqdm.notebook import tqdm\n",
    "\n",
    "melonList=[]\n",
    "for i in tqdm(lst100):\n",
    "    tmp=[]\n",
    "    tmp.append(i.select_one('.rank').text)\n",
    "    tmp.append(i.select_one('.ellipsis.rank01').a.text)\n",
    "    tmp.append(i.select_one('.ellipsis.rank02').a.text)\n",
    "    tmp.append(i.select_one('.ellipsis.rank03').a.text)\n",
    "    tmp.append(get_genre(i))\n",
    "    melonList.append(tmp)"
   ]
  },
  {
   "cell_type": "code",
   "execution_count": 12,
   "metadata": {},
   "outputs": [
    {
     "data": {
      "text/plain": [
       "['1', '에잇(Prod.&Feat. SUGA of BTS)', '아이유', '에잇', '록/메탈']"
      ]
     },
     "execution_count": 12,
     "metadata": {},
     "output_type": "execute_result"
    }
   ],
   "source": [
    "melonList[0]"
   ]
  },
  {
   "cell_type": "markdown",
   "metadata": {},
   "source": [
    "### csv로 저장"
   ]
  },
  {
   "cell_type": "code",
   "execution_count": 14,
   "metadata": {},
   "outputs": [],
   "source": [
    "with open('melon100.csv','w',encoding='utf-8-sig',newline='') as f:\n",
    "    writer=csv.writer(f)\n",
    "    writer.writerow(['순위','곡명','아티스트','앨범','장르'])\n",
    "    writer.writerows(melonList)"
   ]
  },
  {
   "cell_type": "code",
   "execution_count": null,
   "metadata": {},
   "outputs": [],
   "source": []
  }
 ],
 "metadata": {
  "kernelspec": {
   "display_name": "Python 3",
   "language": "python",
   "name": "python3"
  },
  "language_info": {
   "codemirror_mode": {
    "name": "ipython",
    "version": 3
   },
   "file_extension": ".py",
   "mimetype": "text/x-python",
   "name": "python",
   "nbconvert_exporter": "python",
   "pygments_lexer": "ipython3",
   "version": "3.7.3"
  }
 },
 "nbformat": 4,
 "nbformat_minor": 2
}
