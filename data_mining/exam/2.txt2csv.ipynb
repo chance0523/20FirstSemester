{
 "cells": [
  {
   "cell_type": "code",
   "execution_count": null,
   "metadata": {},
   "outputs": [],
   "source": [
    "iris_txt_path=open('c:/python/iris.txt','rt')\n",
    "iris_txt=iris_txt_path.readlines()\n",
    "\n",
    "import csv\n",
    "with open('c://python//iris.csv','w',newline='') as iris_csv:\n",
    "    writer=csv.writer(iris_csv,delimiter=',')\n",
    "    for row in iris_txt:\n",
    "        myList = row.split(' ')\n",
    "        writer.writerow(myList)"
   ]
  }
 ],
 "metadata": {
  "kernelspec": {
   "display_name": "Python 3",
   "language": "python",
   "name": "python3"
  },
  "language_info": {
   "codemirror_mode": {
    "name": "ipython",
    "version": 3
   },
   "file_extension": ".py",
   "mimetype": "text/x-python",
   "name": "python",
   "nbconvert_exporter": "python",
   "pygments_lexer": "ipython3",
   "version": "3.7.3"
  }
 },
 "nbformat": 4,
 "nbformat_minor": 2
}
