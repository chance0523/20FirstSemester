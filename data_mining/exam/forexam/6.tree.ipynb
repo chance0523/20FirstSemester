{
 "cells": [
  {
   "cell_type": "code",
   "execution_count": 1,
   "metadata": {},
   "outputs": [
    {
     "name": "stderr",
     "output_type": "stream",
     "text": [
      "D:\\Anaconda3\\lib\\site-packages\\sklearn\\externals\\six.py:31: DeprecationWarning: The module is deprecated in version 0.21 and will be removed in version 0.23 since we've dropped support for Python 2.7. Please rely on the official version of six (https://pypi.org/project/six/).\n",
      "  \"(https://pypi.org/project/six/).\", DeprecationWarning)\n"
     ]
    },
    {
     "name": "stdout",
     "output_type": "stream",
     "text": [
      "\n",
      "Petal_Length <=2.45: \"setosa\" (50) \n",
      "Petal_Length >2.45\n",
      "|   Petal_width <=1.75\n",
      "|   |   Sepal_Length <=7.10\n",
      "|   |   |   Sepal_Width <=2.85: \"versicolor\" (27/4) \n",
      "|   |   |   Sepal_Width >2.85: \"versicolor\" (22) \n",
      "|   |   Sepal_Length >7.10: \"virginica\" (1) \n",
      "|   Petal_width >1.75\n",
      "|   |   Sepal_Length <=5.95\n",
      "|   |   |   Sepal_Width <=3.10: \"virginica\" (6) \n",
      "|   |   |   Sepal_Width >3.10: \"versicolor\" (1) \n",
      "|   |   Sepal_Length >5.95: \"virginica\" (39) \n",
      "\n"
     ]
    }
   ],
   "source": [
    "import pandas as pd\n",
    "from id3 import Id3Estimator, export_text, export_graphviz\n",
    "import numpy as np\n",
    "\n",
    "df=pd.read_csv('c://python/iris.csv')\n",
    "# df.head()\n",
    "\n",
    "feature_names=['Sepal_Length','Sepal_Width','Petal_Length','Petal_width']\n",
    "\n",
    "xList=[0 for i in range(len(df))]\n",
    "for i in range(len(df)):\n",
    "    xList[i]=list(df.loc[i,'\"Sepal_Length\"':'\"Petal_Width\"'])\n",
    "\n",
    "X=np.array(xList)\n",
    "\n",
    "y=np.array(list(df['\"Species\"']))\n",
    "\n",
    "clf=Id3Estimator()\n",
    "clf.fit(X,y,check_input=True)\n",
    "\n",
    "print(export_text(clf.tree_,feature_names))\n",
    "\n"
   ]
  },
  {
   "cell_type": "code",
   "execution_count": null,
   "metadata": {},
   "outputs": [],
   "source": []
  }
 ],
 "metadata": {
  "kernelspec": {
   "display_name": "Python 3",
   "language": "python",
   "name": "python3"
  },
  "language_info": {
   "codemirror_mode": {
    "name": "ipython",
    "version": 3
   },
   "file_extension": ".py",
   "mimetype": "text/x-python",
   "name": "python",
   "nbconvert_exporter": "python",
   "pygments_lexer": "ipython3",
   "version": "3.7.3"
  }
 },
 "nbformat": 4,
 "nbformat_minor": 2
}
