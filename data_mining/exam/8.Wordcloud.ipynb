{
 "cells": [
  {
   "cell_type": "code",
   "execution_count": 1,
   "metadata": {},
   "outputs": [],
   "source": [
    "import pandas as pd\n",
    "from wordcloud import WordCloud\n",
    "import matplotlib.pyplot as plt\n",
    "from collections import Counter\n",
    "\n",
    "\n",
    "def makeWordCloud(List):\n",
    "    cnt= Counter(List)\n",
    "    Dict = dict(cnt.most_common())\n",
    "    wordcloud = WordCloud(font_path='c:/python/NanumGothic.ttf', background_color='white').generate_from_frequencies(Dict)    \n",
    "    plt.figure(figsize=(15,15)) # 이미지 사이즈 지정\n",
    "    plt.imshow(wordcloud, interpolation='bilinear') # 이미지의 부드럽기 정도\n",
    "    plt.axis('off') # x y 축 숫자 제거\n",
    "    plt.show()"
   ]
  },
  {
   "cell_type": "code",
   "execution_count": null,
   "metadata": {},
   "outputs": [],
   "source": []
  }
 ],
 "metadata": {
  "kernelspec": {
   "display_name": "Python 3",
   "language": "python",
   "name": "python3"
  },
  "language_info": {
   "codemirror_mode": {
    "name": "ipython",
    "version": 3
   },
   "file_extension": ".py",
   "mimetype": "text/x-python",
   "name": "python",
   "nbconvert_exporter": "python",
   "pygments_lexer": "ipython3",
   "version": "3.7.3"
  }
 },
 "nbformat": 4,
 "nbformat_minor": 2
}
