{
 "cells": [
  {
   "cell_type": "code",
   "execution_count": 1,
   "metadata": {},
   "outputs": [],
   "source": [
    "## 서정준    학번 : 201511345"
   ]
  },
  {
   "cell_type": "code",
   "execution_count": 2,
   "metadata": {},
   "outputs": [
    {
     "name": "stdout",
     "output_type": "stream",
     "text": [
      "2\n"
     ]
    }
   ],
   "source": [
    "temp = 2\n",
    "print(temp)"
   ]
  },
  {
   "cell_type": "code",
   "execution_count": 3,
   "metadata": {},
   "outputs": [
    {
     "name": "stdout",
     "output_type": "stream",
     "text": [
      "10\n",
      "4\n",
      "21\n",
      "2.3333333333333335\n"
     ]
    }
   ],
   "source": [
    "a=7\n",
    "b=3\n",
    "print(a+b)\n",
    "print(a-b)\n",
    "print(a*b)\n",
    "print(a/b)"
   ]
  },
  {
   "cell_type": "code",
   "execution_count": 4,
   "metadata": {},
   "outputs": [
    {
     "name": "stdout",
     "output_type": "stream",
     "text": [
      "2\n"
     ]
    }
   ],
   "source": [
    "a=7\n",
    "b=3\n",
    "print(a//b)"
   ]
  },
  {
   "cell_type": "code",
   "execution_count": 5,
   "metadata": {},
   "outputs": [
    {
     "name": "stdout",
     "output_type": "stream",
     "text": [
      "1\n"
     ]
    }
   ],
   "source": [
    "a=7\n",
    "b=3\n",
    "print(a%b)"
   ]
  },
  {
   "cell_type": "code",
   "execution_count": 6,
   "metadata": {},
   "outputs": [
    {
     "name": "stdout",
     "output_type": "stream",
     "text": [
      "343\n"
     ]
    }
   ],
   "source": [
    "a=7\n",
    "b=3\n",
    "print(a**b)"
   ]
  },
  {
   "cell_type": "code",
   "execution_count": 7,
   "metadata": {},
   "outputs": [
    {
     "name": "stdout",
     "output_type": "stream",
     "text": [
      "python is easy\n"
     ]
    }
   ],
   "source": [
    "temp='python is easy'\n",
    "print(temp)"
   ]
  },
  {
   "cell_type": "code",
   "execution_count": 8,
   "metadata": {},
   "outputs": [
    {
     "name": "stdout",
     "output_type": "stream",
     "text": [
      "14\n"
     ]
    }
   ],
   "source": [
    "temp='python is easy'\n",
    "print(len(temp))"
   ]
  },
  {
   "cell_type": "code",
   "execution_count": 9,
   "metadata": {},
   "outputs": [
    {
     "name": "stdout",
     "output_type": "stream",
     "text": [
      "pythonis easy\n",
      "python is easy\n"
     ]
    }
   ],
   "source": [
    "print('python'+'is easy')\n",
    "print('python '+'is easy')"
   ]
  },
  {
   "cell_type": "code",
   "execution_count": 10,
   "metadata": {},
   "outputs": [
    {
     "name": "stdout",
     "output_type": "stream",
     "text": [
      "h\n"
     ]
    }
   ],
   "source": [
    "temp='python is easy'\n",
    "print(temp[3])"
   ]
  },
  {
   "cell_type": "code",
   "execution_count": 11,
   "metadata": {},
   "outputs": [
    {
     "name": "stdout",
     "output_type": "stream",
     "text": [
      "pytho\n"
     ]
    }
   ],
   "source": [
    "temp='python is easy'\n",
    "print(temp[0:5])"
   ]
  },
  {
   "cell_type": "code",
   "execution_count": 12,
   "metadata": {},
   "outputs": [
    {
     "name": "stdout",
     "output_type": "stream",
     "text": [
      "['python', 'is', 'easy']\n",
      "['python', 'java', 'R', 'SAS']\n"
     ]
    }
   ],
   "source": [
    "temp='python is easy'\n",
    "print(temp.split())\n",
    "temp2='python,java,R,SAS'\n",
    "print(temp2.split(','))"
   ]
  },
  {
   "cell_type": "code",
   "execution_count": 13,
   "metadata": {},
   "outputs": [
    {
     "name": "stdout",
     "output_type": "stream",
     "text": [
      "python,java,R,SAS\n"
     ]
    }
   ],
   "source": [
    "temp2=['python','java','R','SAS']\n",
    "print(','.join(temp2))"
   ]
  },
  {
   "cell_type": "code",
   "execution_count": 14,
   "metadata": {},
   "outputs": [
    {
     "name": "stdout",
     "output_type": "stream",
     "text": [
      "['one', 'two', 'three', 'four']\n"
     ]
    }
   ],
   "source": [
    "number=['one','two','three','four']\n",
    "print(number)"
   ]
  },
  {
   "cell_type": "code",
   "execution_count": 15,
   "metadata": {},
   "outputs": [
    {
     "name": "stdout",
     "output_type": "stream",
     "text": [
      "('one', 'two', 'three', 'four')\n",
      "['one', 'two', 'three', 'four']\n"
     ]
    }
   ],
   "source": [
    "number_tuple=('one','two','three','four')\n",
    "print(number_tuple)\n",
    "print(list(number_tuple))"
   ]
  },
  {
   "cell_type": "code",
   "execution_count": 16,
   "metadata": {},
   "outputs": [
    {
     "name": "stdout",
     "output_type": "stream",
     "text": [
      "two\n",
      "['three', 'four']\n"
     ]
    }
   ],
   "source": [
    "number=['one','two','three','four']\n",
    "print(number[1])\n",
    "print(number[2:4])"
   ]
  },
  {
   "cell_type": "code",
   "execution_count": 17,
   "metadata": {},
   "outputs": [
    {
     "name": "stdout",
     "output_type": "stream",
     "text": [
      "['first', 'two', 'three', 'four']\n"
     ]
    }
   ],
   "source": [
    "number=['one','two','three','four']\n",
    "number[0]='first'\n",
    "print(number)"
   ]
  },
  {
   "cell_type": "code",
   "execution_count": 18,
   "metadata": {},
   "outputs": [
    {
     "name": "stdout",
     "output_type": "stream",
     "text": [
      "['one', 'two', 'three', 'four', 'five']\n"
     ]
    }
   ],
   "source": [
    "number=['one','two','three','four']\n",
    "number.append('five')\n",
    "print(number)"
   ]
  },
  {
   "cell_type": "code",
   "execution_count": 19,
   "metadata": {},
   "outputs": [
    {
     "name": "stdout",
     "output_type": "stream",
     "text": [
      "['one', 'three', 'four']\n"
     ]
    }
   ],
   "source": [
    "number=['one','two','three','four']\n",
    "del number[1]\n",
    "print(number)"
   ]
  },
  {
   "cell_type": "code",
   "execution_count": 20,
   "metadata": {},
   "outputs": [
    {
     "name": "stdout",
     "output_type": "stream",
     "text": [
      "['one', 'four']\n"
     ]
    }
   ],
   "source": [
    "number.remove('three')\n",
    "print(number)"
   ]
  },
  {
   "cell_type": "code",
   "execution_count": 21,
   "metadata": {},
   "outputs": [
    {
     "name": "stdout",
     "output_type": "stream",
     "text": [
      "['one', 'two', 'three', 'four', 'six', 'seven', 'eight', 'nine']\n"
     ]
    }
   ],
   "source": [
    "number1=['one','two','three','four']\n",
    "number2=['six','seven','eight','nine']\n",
    "number1.extend(number2)\n",
    "print(number1)"
   ]
  },
  {
   "cell_type": "code",
   "execution_count": 22,
   "metadata": {},
   "outputs": [
    {
     "name": "stdout",
     "output_type": "stream",
     "text": [
      "['four', 'one', 'three', 'two']\n",
      "['one', 'two', 'three', 'four']\n"
     ]
    }
   ],
   "source": [
    "number=['one','two','three','four']\n",
    "newnumber=sorted(number)\n",
    "print(newnumber)\n",
    "print(number)"
   ]
  },
  {
   "cell_type": "code",
   "execution_count": 23,
   "metadata": {},
   "outputs": [
    {
     "name": "stdout",
     "output_type": "stream",
     "text": [
      "['four', 'one', 'three', 'two']\n"
     ]
    }
   ],
   "source": [
    "number.sort()\n",
    "print(number)"
   ]
  },
  {
   "cell_type": "code",
   "execution_count": 24,
   "metadata": {},
   "outputs": [
    {
     "name": "stdout",
     "output_type": "stream",
     "text": [
      "[4, 3, 2, 1]\n"
     ]
    }
   ],
   "source": [
    "number=[1,2,3,4]\n",
    "number.sort(reverse=True)\n",
    "print(number)"
   ]
  },
  {
   "cell_type": "code",
   "execution_count": 25,
   "metadata": {},
   "outputs": [
    {
     "name": "stdout",
     "output_type": "stream",
     "text": [
      "4\n"
     ]
    }
   ],
   "source": [
    "number=['one','two','three','four']\n",
    "print(len(number))"
   ]
  },
  {
   "cell_type": "code",
   "execution_count": 26,
   "metadata": {},
   "outputs": [
    {
     "name": "stdout",
     "output_type": "stream",
     "text": [
      "(1, 2, 3, 4)\n",
      "<class 'tuple'>\n"
     ]
    }
   ],
   "source": [
    "number=(1,2,3,4)\n",
    "print(number)\n",
    "print(type(number))"
   ]
  },
  {
   "cell_type": "code",
   "execution_count": 27,
   "metadata": {},
   "outputs": [
    {
     "name": "stdout",
     "output_type": "stream",
     "text": [
      "{'apple': 3500, 'peer': 2500, 'cherry': 5000}\n"
     ]
    }
   ],
   "source": [
    "fruit_price=[['apple',3500],['peer',2500],['cherry',5000]]\n",
    "fruit_price=dict(fruit_price)\n",
    "print(fruit_price)"
   ]
  },
  {
   "cell_type": "code",
   "execution_count": 28,
   "metadata": {},
   "outputs": [
    {
     "name": "stdout",
     "output_type": "stream",
     "text": [
      "dict_keys(['apple', 'peer', 'cherry'])\n"
     ]
    }
   ],
   "source": [
    "fruit_price={'apple':3500,'peer':2500,'cherry':5000}\n",
    "print(fruit_price.keys())"
   ]
  },
  {
   "cell_type": "code",
   "execution_count": 29,
   "metadata": {},
   "outputs": [
    {
     "name": "stdout",
     "output_type": "stream",
     "text": [
      "2500\n"
     ]
    }
   ],
   "source": [
    "fruit_price={'apple':3500,'peer':2500,'cherry':5000}\n",
    "print(fruit_price['peer'])"
   ]
  },
  {
   "cell_type": "code",
   "execution_count": 30,
   "metadata": {},
   "outputs": [
    {
     "name": "stdout",
     "output_type": "stream",
     "text": [
      "['mina', 'jane', 'mark']\n"
     ]
    }
   ],
   "source": [
    "school_class={1:['mina','jane','mark'],2:['peter','pay','parker'],3:['pay','joy','conan']}\n",
    "print(school_class.get(1))"
   ]
  },
  {
   "cell_type": "code",
   "execution_count": 31,
   "metadata": {},
   "outputs": [
    {
     "name": "stdout",
     "output_type": "stream",
     "text": [
      "{'apple': 3500, 'peer': 2500, 'cherry': 5000, 'banana': 3200, 'grape': 2000}\n"
     ]
    }
   ],
   "source": [
    "fruit_price={'apple':3500,'peer':2500,'cherry':5000}\n",
    "others={'banana':3200,'grape':2000}\n",
    "fruit_price.update(others)\n",
    "print(fruit_price)"
   ]
  },
  {
   "cell_type": "code",
   "execution_count": 32,
   "metadata": {},
   "outputs": [
    {
     "name": "stdout",
     "output_type": "stream",
     "text": [
      "{1: ['mina', 'jane', 'mark'], 2: ['peter', 'pay', 'parker'], 3: ['john', 'eric', 'terry']}\n"
     ]
    }
   ],
   "source": [
    "school_class={1:['mina','jane','mark'],2:['peter','pay','parker'],3:['pay','joy','conan']}\n",
    "other_class={3:['john','eric','terry']}\n",
    "school_class.update(other_class)\n",
    "print(school_class)"
   ]
  },
  {
   "cell_type": "code",
   "execution_count": 33,
   "metadata": {},
   "outputs": [
    {
     "name": "stdout",
     "output_type": "stream",
     "text": [
      "{'peer': 2500, 'cherry': 5000}\n"
     ]
    }
   ],
   "source": [
    "fruit_price={'apple':3500,'peer':2500,'cherry':5000}\n",
    "del fruit_price['apple']\n",
    "print(fruit_price)"
   ]
  },
  {
   "cell_type": "code",
   "execution_count": 34,
   "metadata": {},
   "outputs": [
    {
     "name": "stdout",
     "output_type": "stream",
     "text": [
      "{1: ['mina', 'jane', 'mark'], 2: ['peter', 'pay', 'parker']}\n"
     ]
    }
   ],
   "source": [
    "school_class={1:['mina','jane','mark'],2:['peter','pay','parker'],3:['pay','joy','conan']}\n",
    "del school_class[3]\n",
    "print(school_class)"
   ]
  },
  {
   "cell_type": "code",
   "execution_count": 35,
   "metadata": {},
   "outputs": [
    {
     "name": "stdout",
     "output_type": "stream",
     "text": [
      "<class 'bool'>\n"
     ]
    }
   ],
   "source": [
    "python=True\n",
    "print(type(python))"
   ]
  },
  {
   "cell_type": "code",
   "execution_count": 36,
   "metadata": {},
   "outputs": [
    {
     "name": "stdout",
     "output_type": "stream",
     "text": [
      "조건문이 참입니다.\n"
     ]
    }
   ],
   "source": [
    "python=True\n",
    "if(python):\n",
    "    print('조건문이 참입니다.')"
   ]
  },
  {
   "cell_type": "code",
   "execution_count": 37,
   "metadata": {},
   "outputs": [
    {
     "name": "stdout",
     "output_type": "stream",
     "text": [
      "조건문이 참입니다.\n"
     ]
    }
   ],
   "source": [
    "python=True\n",
    "if(python):\n",
    "    print('조건문이 참입니다.')\n",
    "else:\n",
    "    print('조건문이 참이 아닙니다.')"
   ]
  },
  {
   "cell_type": "code",
   "execution_count": 38,
   "metadata": {},
   "outputs": [
    {
     "name": "stdout",
     "output_type": "stream",
     "text": [
      "첫번째 조건문은 참이 아니고 두번째 조건문은 참입니다.\n"
     ]
    }
   ],
   "source": [
    "python=False\n",
    "pycharm=True\n",
    "if(python):\n",
    "    print('첫번째 조건문이 참입니다.')\n",
    "elif(pycharm):\n",
    "    print('첫번째 조건문은 참이 아니고 두번째 조건문은 참입니다.')\n",
    "else:\n",
    "    print('조건문이 참이 아닙니다.')"
   ]
  },
  {
   "cell_type": "code",
   "execution_count": 39,
   "metadata": {},
   "outputs": [
    {
     "name": "stdout",
     "output_type": "stream",
     "text": [
      "1\n",
      "2\n",
      "3\n",
      "4\n",
      "5\n",
      "6\n",
      "7\n",
      "8\n",
      "9\n"
     ]
    }
   ],
   "source": [
    "for i in range(1,10):\n",
    "    print(i)"
   ]
  },
  {
   "cell_type": "code",
   "execution_count": 40,
   "metadata": {},
   "outputs": [
    {
     "name": "stdout",
     "output_type": "stream",
     "text": [
      "<class 'list'>\n",
      "apple\n",
      "peer\n",
      "cherry\n"
     ]
    }
   ],
   "source": [
    "fruit=['apple','peer','cherry']\n",
    "print(type(fruit))\n",
    "for i in fruit:\n",
    "    print(i)"
   ]
  },
  {
   "cell_type": "code",
   "execution_count": 41,
   "metadata": {},
   "outputs": [
    {
     "name": "stdout",
     "output_type": "stream",
     "text": [
      "apple\n",
      "peer\n",
      "cherry\n"
     ]
    }
   ],
   "source": [
    "fruit_price={'apple':3500,'peer':2500,'cherry':5000}\n",
    "for i in fruit_price.keys():\n",
    "    print(i)"
   ]
  },
  {
   "cell_type": "code",
   "execution_count": 42,
   "metadata": {},
   "outputs": [
    {
     "name": "stdout",
     "output_type": "stream",
     "text": [
      "3500\n",
      "2500\n",
      "5000\n"
     ]
    }
   ],
   "source": [
    "fruit_price={'apple':3500,'peer':2500,'cherry':5000}\n",
    "for i in fruit_price.values():\n",
    "    print(i)"
   ]
  },
  {
   "cell_type": "code",
   "execution_count": 43,
   "metadata": {},
   "outputs": [
    {
     "name": "stdout",
     "output_type": "stream",
     "text": [
      "('apple', 3500)\n",
      "('peer', 2500)\n",
      "('cherry', 5000)\n"
     ]
    }
   ],
   "source": [
    "fruit_price={'apple':3500,'peer':2500,'cherry':5000}\n",
    "for item in fruit_price.items():\n",
    "    print(item)"
   ]
  },
  {
   "cell_type": "code",
   "execution_count": 44,
   "metadata": {},
   "outputs": [
    {
     "name": "stdout",
     "output_type": "stream",
     "text": [
      "['apple', 'cherry']\n",
      "['peer']\n"
     ]
    }
   ],
   "source": [
    "high_price=[]\n",
    "low_price=[]\n",
    "fruit_price={'apple':3500,'peer':2500,'cherry':5000}\n",
    "for item in fruit_price.items():\n",
    "    if item[1]>3000:\n",
    "        high_price.append(item[0])\n",
    "    else:\n",
    "        low_price.append(item[0])\n",
    "print(high_price)\n",
    "print(low_price)"
   ]
  },
  {
   "cell_type": "code",
   "execution_count": 45,
   "metadata": {},
   "outputs": [],
   "source": [
    "fruit=open('D://fruit.txt','wt')\n",
    "fruit_price={'apple':3500,'peer':2500,'cherry':5000}\n",
    "for item in fruit_price.items():\n",
    "    print(item,file=fruit)\n",
    "fruit.close()"
   ]
  },
  {
   "cell_type": "code",
   "execution_count": 46,
   "metadata": {},
   "outputs": [],
   "source": [
    "fruit=open('D://fruit2.txt','wt')\n",
    "fruit.write('apple 3500\\n')\n",
    "fruit.write('peer 2500\\n')\n",
    "fruit.write('cherry 5000\\n')\n",
    "fruit.close()"
   ]
  },
  {
   "cell_type": "code",
   "execution_count": 47,
   "metadata": {},
   "outputs": [],
   "source": [
    "import csv\n",
    "with open('D://fruit.csv','w',newline='') as fruit:\n",
    "    writer=csv.writer(fruit,delimiter=',')\n",
    "    writer.writerow(['apple'])\n",
    "    writer.writerow(['peer'])    \n",
    "    writer.writerow(['cherry'])    \n",
    "    writer.writerow(['banana'])    \n",
    "    writer.writerow(['peach'])    "
   ]
  },
  {
   "cell_type": "code",
   "execution_count": 48,
   "metadata": {},
   "outputs": [
    {
     "name": "stdout",
     "output_type": "stream",
     "text": [
      "[\"('apple', 3500)\\n\", \"('peer', 2500)\\n\", \"('cherry', 5000)\\n\"]\n"
     ]
    }
   ],
   "source": [
    "fruit_path=open('d://fruit.txt','rt')\n",
    "fruit=fruit_path.readlines()\n",
    "print(fruit)"
   ]
  },
  {
   "cell_type": "code",
   "execution_count": 49,
   "metadata": {},
   "outputs": [
    {
     "name": "stdout",
     "output_type": "stream",
     "text": [
      "<_csv.reader object at 0x000000EE69656CE0>\n",
      "['apple']\n",
      "['peer']\n",
      "['cherry']\n",
      "['banana']\n",
      "['peach']\n"
     ]
    }
   ],
   "source": [
    "import csv\n",
    "\n",
    "f = open('d://fruit.csv','rt')\n",
    "csvRead=csv.reader(f)\n",
    "print(csvRead)\n",
    "\n",
    "fruit=[]\n",
    "for i in csvRead:\n",
    "    fruit.append(csvRead)\n",
    "    print(i)"
   ]
  },
  {
   "cell_type": "code",
   "execution_count": null,
   "metadata": {},
   "outputs": [],
   "source": []
  }
 ],
 "metadata": {
  "kernelspec": {
   "display_name": "Python 3",
   "language": "python",
   "name": "python3"
  },
  "language_info": {
   "codemirror_mode": {
    "name": "ipython",
    "version": 3
   },
   "file_extension": ".py",
   "mimetype": "text/x-python",
   "name": "python",
   "nbconvert_exporter": "python",
   "pygments_lexer": "ipython3",
   "version": "3.7.3"
  }
 },
 "nbformat": 4,
 "nbformat_minor": 2
}
