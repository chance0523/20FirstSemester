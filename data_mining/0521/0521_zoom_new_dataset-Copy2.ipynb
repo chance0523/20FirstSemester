{
 "cells": [
  {
   "cell_type": "code",
   "execution_count": 2,
   "metadata": {},
   "outputs": [
    {
     "name": "stdout",
     "output_type": "stream",
     "text": [
      "[['소주', '콜라', '와인'], ['소주', '오렌지주스', '콜라'], ['콜라', '맥주', '와인'], ['소주', '콜라', '맥주'], ['오렌지주스', '와인']]\n"
     ]
    }
   ],
   "source": [
    "import pandas as pd\n",
    "\n",
    "ds = pd.read_csv('basket_1.csv', header=None,encoding = 'euc-kr')\n",
    "# print(ds)\n",
    "\n",
    "dataset=[]\n",
    "for i in range(5):\n",
    "    dataset.append(list(ds.iloc[i]))\n",
    "# print(dataset)\n",
    "\n",
    "del dataset[4][2]\n",
    "\n",
    "print(dataset)"
   ]
  },
  {
   "cell_type": "code",
   "execution_count": 6,
   "metadata": {},
   "outputs": [],
   "source": [
    "# 한글 -> 영어 변환\n",
    "for i in range(len(dataset)):\n",
    "    for j in range(len(dataset[i])):\n",
    "        if dataset[i][j]=='소주':\n",
    "            dataset[i][j]='soju'\n",
    "        elif dataset[i][j]=='콜라':\n",
    "            dataset[i][j]='cola'\n",
    "        elif dataset[i][j]=='와인':\n",
    "            dataset[i][j]='wine'\n",
    "        elif dataset[i][j]=='오렌지주스':\n",
    "            dataset[i][j]='orange_juice'\n",
    "        elif dataset[i][j]=='맥주':\n",
    "            dataset[i][j]='beer'"
   ]
  },
  {
   "cell_type": "code",
   "execution_count": 8,
   "metadata": {},
   "outputs": [],
   "source": [
    "# dataset=[['Milk','Onion','Nutmeg','Kidney Beans','Eggs','Yogurt'],\n",
    "#         ['Dill','Onion','Nutmeg','Kidney Beans','Eggs','Yogurt'],\n",
    "#         ['Milk','Apple','Kidney Beans','Eggs'],\n",
    "#         ['Milk','Unicorn','Corn','Kidney Beans','Yogurt'],\n",
    "#         ['Corn','Onion','Onion','Kidney Beans','Ice cream','Eggs']]"
   ]
  },
  {
   "cell_type": "code",
   "execution_count": 10,
   "metadata": {},
   "outputs": [],
   "source": [
    "import pandas as pd\n",
    "from mlxtend.preprocessing import TransactionEncoder\n",
    "from mlxtend.frequent_patterns import apriori\n",
    "from mlxtend.frequent_patterns import association_rules"
   ]
  },
  {
   "cell_type": "markdown",
   "metadata": {},
   "source": [
    "- support\n",
    "  - 전체 거래에서 특정 물품 A와 B가 동시에 거래되는 비중.\n",
    "  - 해당 규칙이 얼마나 의미있는지 보여줌.\n",
    "- confidence\n",
    "  - A를 포함하는 거래 중 A와 B가 동시에 거래되는 비중\n",
    "- lift\n",
    "  - A라는 상품에서 신뢰도가 동일한 상품 B와 C가 존재할 때, 어떤 상품을 더 추천해야 좋을지 판단.\n",
    "  - A와 B가 동시에 거래된 비중을 A와 B가 서로 독립된 사건일 때 동시에 거래된 비중으로 나눈 값\n",
    "\n",
    "\n",
    "\n",
    "\n",
    "\n",
    "\n",
    "\n"
   ]
  },
  {
   "cell_type": "code",
   "execution_count": 11,
   "metadata": {},
   "outputs": [
    {
     "name": "stdout",
     "output_type": "stream",
     "text": [
      "      맥주     소주  오렌지주스     와인     콜라\n",
      "0  False   True  False   True   True\n",
      "1  False   True   True  False   True\n",
      "2   True  False  False   True   True\n",
      "3   True   True  False  False   True\n",
      "4  False  False   True   True  False\n"
     ]
    }
   ],
   "source": [
    "# n번째에 X가 있으면 True, 아니면 False\n",
    "oht = TransactionEncoder()\n",
    "oht_ary = oht.fit(dataset).transform(dataset)\n",
    "df = pd.DataFrame(oht_ary,columns=oht.columns_)\n",
    "print(df)"
   ]
  },
  {
   "cell_type": "code",
   "execution_count": 12,
   "metadata": {},
   "outputs": [
    {
     "name": "stdout",
     "output_type": "stream",
     "text": [
      "   support  itemsets\n",
      "0      0.6      (소주)\n",
      "1      0.6      (와인)\n",
      "2      0.8      (콜라)\n",
      "3      0.6  (콜라, 소주)\n"
     ]
    }
   ],
   "source": [
    "# min_support = 0.6\n",
    "# eggs를 살 확률은 0.8, eggs,onion을 같이 살 확률은 0.6\n",
    "frequent_itemsets=apriori(df,min_support=0.6,use_colnames=True)\n",
    "print(frequent_itemsets)"
   ]
  },
  {
   "cell_type": "code",
   "execution_count": 13,
   "metadata": {},
   "outputs": [
    {
     "name": "stdout",
     "output_type": "stream",
     "text": [
      "  antecedents consequents  antecedent support  consequent support  support  \\\n",
      "0        (콜라)        (소주)                 0.8                 0.6      0.6   \n",
      "1        (소주)        (콜라)                 0.6                 0.8      0.6   \n",
      "\n",
      "   confidence  lift  leverage  conviction  \n",
      "0        0.75  1.25      0.12         1.6  \n",
      "1        1.00  1.25      0.12         inf  \n"
     ]
    }
   ],
   "source": [
    "# confidence 0.7 이상\n",
    "association_rules(frequent_itemsets,metric=\"confidence\",min_threshold=0.7)\n",
    "# 그 중에서 lift 1.2이상\n",
    "rules=association_rules(frequent_itemsets,metric=\"lift\",min_threshold=1.2)\n",
    "print(rules)"
   ]
  },
  {
   "cell_type": "code",
   "execution_count": 14,
   "metadata": {},
   "outputs": [],
   "source": [
    "support=list(rules['support'].values)\n",
    "confidence=list(rules['confidence'].values)"
   ]
  },
  {
   "cell_type": "code",
   "execution_count": 15,
   "metadata": {},
   "outputs": [],
   "source": [
    "import random\n",
    "import matplotlib.pyplot as plt"
   ]
  },
  {
   "cell_type": "markdown",
   "metadata": {},
   "source": [
    "여기는 왜 해주는지 모르겠다"
   ]
  },
  {
   "cell_type": "code",
   "execution_count": 16,
   "metadata": {},
   "outputs": [],
   "source": [
    "for i in range(len(support)):\n",
    "    support[i]=support[i]+0.0025*(random.randint(1,10)-5)\n",
    "    confidence[i]=confidence[i]+0.0025*(random.randint(1,10)-5)"
   ]
  },
  {
   "cell_type": "code",
   "execution_count": 17,
   "metadata": {},
   "outputs": [
    {
     "data": {
      "image/png": "[encoded data removed]",
      "text/plain": [
       "<Figure size 432x288 with 1 Axes>"
      ]
     },
     "metadata": {
      "needs_background": "light"
     },
     "output_type": "display_data"
    }
   ],
   "source": [
    "plt.scatter(support,confidence,alpha=0.5,marker=\"*\")\n",
    "plt.xlabel('support')\n",
    "plt.ylabel('confidence')\n",
    "plt.show()"
   ]
  },
  {
   "cell_type": "code",
   "execution_count": 18,
   "metadata": {},
   "outputs": [],
   "source": [
    "import numpy as np"
   ]
  },
  {
   "cell_type": "code",
   "execution_count": 19,
   "metadata": {},
   "outputs": [],
   "source": [
    "import matplotlib.font_manager as fm\n",
    "\n",
    "from matplotlib import rc\n",
    "\n",
    "font_name = fm.FontProperties(fname=\"c:/Windows/Fonts/malgun.ttf\").get_name()\n",
    "\n",
    "rc('font', family=font_name)"
   ]
  },
  {
   "cell_type": "code",
   "execution_count": 20,
   "metadata": {},
   "outputs": [],
   "source": [
    "def draw_graph(rules,rules_to_show):\n",
    "    import networkx as nx\n",
    "    G1 = nx.DiGraph()\n",
    "    \n",
    "    color_map = []\n",
    "    N = 50\n",
    "    colors = np.random.rand(N)\n",
    "    strs = ['R0', 'R1','R2','R3','R4','R5','R6','R7','R8','R9','R10','R11']\n",
    "    \n",
    "    for i in range(rules_to_show):\n",
    "        G1.add_nodes_from([\"R\"+str(i)])\n",
    "        \n",
    "        for a in rules.iloc[i]['antecedents']:\n",
    "            G1.add_nodes_from([a])\n",
    "            G1.add_edge(a,\"R\"+str(i),color=colors[i],weight=2)\n",
    "        for c in rules.iloc[i]['consequents']:\n",
    "            G1.add_nodes_from([c])\n",
    "            G1.add_edge(\"R\"+str(i),c,color=colors[i],weight=2)\n",
    "            \n",
    "    for node in G1:\n",
    "        found_a_string = False\n",
    "        for item in strs:\n",
    "            if node==item:\n",
    "                found_a_string = True\n",
    "        if found_a_string:\n",
    "            color_map.append('yellow')\n",
    "        else:\n",
    "            color_map.append('green')\n",
    "            \n",
    "    edges=G1.edges()\n",
    "    colors=[G1[u][v]['color'] for u,v in edges]\n",
    "    weights=[G1[u][v]['weight'] for u,v in edges]\n",
    "    \n",
    "    pos=nx.spring_layout(G1,k=16,scale=1)\n",
    "    nx.draw(G1, pos, edges=edges, node_color=color_map, edge_color=colors, \n",
    "       width=weights,font_family=font_name, font_size=16, with_labels=False)\n",
    "    \n",
    "    for p in pos: # raise text positions\n",
    "        pos[p][1] += 0.07\n",
    "    nx.draw_networkx_labels(G1,pos)\n",
    "    plt.show()"
   ]
  },
  {
   "cell_type": "code",
   "execution_count": 21,
   "metadata": {},
   "outputs": [
    {
     "name": "stderr",
     "output_type": "stream",
     "text": [
      "D:\\Anaconda3\\lib\\site-packages\\networkx\\drawing\\nx_pylab.py:579: MatplotlibDeprecationWarning: \n",
      "The iterable function was deprecated in Matplotlib 3.1 and will be removed in 3.3. Use np.iterable instead.\n",
      "  if not cb.iterable(width):\n",
      "D:\\Anaconda3\\lib\\site-packages\\networkx\\drawing\\nx_pylab.py:585: MatplotlibDeprecationWarning: \n",
      "The iterable function was deprecated in Matplotlib 3.1 and will be removed in 3.3. Use np.iterable instead.\n",
      "  and cb.iterable(edge_color) \\\n",
      "D:\\Anaconda3\\lib\\site-packages\\networkx\\drawing\\nx_pylab.py:595: MatplotlibDeprecationWarning: \n",
      "The iterable function was deprecated in Matplotlib 3.1 and will be removed in 3.3. Use np.iterable instead.\n",
      "  for c in edge_color]):\n",
      "D:\\Anaconda3\\lib\\site-packages\\networkx\\drawing\\nx_pylab.py:676: MatplotlibDeprecationWarning: \n",
      "The iterable function was deprecated in Matplotlib 3.1 and will be removed in 3.3. Use np.iterable instead.\n",
      "  if cb.iterable(node_size):  # many node sizes\n",
      "D:\\Anaconda3\\lib\\site-packages\\matplotlib\\backends\\backend_agg.py:211: RuntimeWarning: Glyph 53084 missing from current font.\n",
      "  font.set_text(s, 0.0, flags=flags)\n",
      "D:\\Anaconda3\\lib\\site-packages\\matplotlib\\backends\\backend_agg.py:211: RuntimeWarning: Glyph 46972 missing from current font.\n",
      "  font.set_text(s, 0.0, flags=flags)\n",
      "D:\\Anaconda3\\lib\\site-packages\\matplotlib\\backends\\backend_agg.py:180: RuntimeWarning: Glyph 53084 missing from current font.\n",
      "  font.set_text(s, 0, flags=flags)\n",
      "D:\\Anaconda3\\lib\\site-packages\\matplotlib\\backends\\backend_agg.py:180: RuntimeWarning: Glyph 46972 missing from current font.\n",
      "  font.set_text(s, 0, flags=flags)\n",
      "D:\\Anaconda3\\lib\\site-packages\\matplotlib\\backends\\backend_agg.py:211: RuntimeWarning: Glyph 49548 missing from current font.\n",
      "  font.set_text(s, 0.0, flags=flags)\n",
      "D:\\Anaconda3\\lib\\site-packages\\matplotlib\\backends\\backend_agg.py:211: RuntimeWarning: Glyph 51452 missing from current font.\n",
      "  font.set_text(s, 0.0, flags=flags)\n",
      "D:\\Anaconda3\\lib\\site-packages\\matplotlib\\backends\\backend_agg.py:180: RuntimeWarning: Glyph 49548 missing from current font.\n",
      "  font.set_text(s, 0, flags=flags)\n",
      "D:\\Anaconda3\\lib\\site-packages\\matplotlib\\backends\\backend_agg.py:180: RuntimeWarning: Glyph 51452 missing from current font.\n",
      "  font.set_text(s, 0, flags=flags)\n"
     ]
    },
    {
     "data": {
      "image/png": "[encoded data removed]",
      "text/plain": [
       "<Figure size 432x288 with 1 Axes>"
      ]
     },
     "metadata": {},
     "output_type": "display_data"
    }
   ],
   "source": [
    "draw_graph(rules,2)"
   ]
  },
  {
   "cell_type": "code",
   "execution_count": null,
   "metadata": {},
   "outputs": [],
   "source": []
  },
  {
   "cell_type": "code",
   "execution_count": null,
   "metadata": {},
   "outputs": [],
   "source": []
  }
 ],
 "metadata": {
  "kernelspec": {
   "display_name": "Python 3",
   "language": "python",
   "name": "python3"
  },
  "language_info": {
   "codemirror_mode": {
    "name": "ipython",
    "version": 3
   },
   "file_extension": ".py",
   "mimetype": "text/x-python",
   "name": "python",
   "nbconvert_exporter": "python",
   "pygments_lexer": "ipython3",
   "version": "3.7.3"
  }
 },
 "nbformat": 4,
 "nbformat_minor": 2
}
