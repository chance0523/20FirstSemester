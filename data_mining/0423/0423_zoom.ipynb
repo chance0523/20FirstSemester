{
 "cells": [
  {
   "cell_type": "code",
   "execution_count": 1,
   "metadata": {},
   "outputs": [
    {
     "name": "stdout",
     "output_type": "stream",
     "text": [
      "{1: ['새우깡', '포스틱', '썬칩'], 2: ['사이다', '콜라'], 3: ['집', '학교']}\n"
     ]
    }
   ],
   "source": [
    "A_dic={1:['새우깡','포스틱','썬칩'], 2:['사이다','콜라']}\n",
    "B_dic={3:['집','학교']}\n",
    "C_dic={}\n",
    "C_dic.update(A_dic)\n",
    "C_dic.update(B_dic)\n",
    "print(C_dic)\n",
    "\n",
    "# 이 코드의 이름을 \"본인이름_과제1.txt\""
   ]
  },
  {
   "cell_type": "code",
   "execution_count": 2,
   "metadata": {},
   "outputs": [
    {
     "name": "stdout",
     "output_type": "stream",
     "text": [
      "{1: ['새우깡', '포스틱', '썬칩'], 3: ['집', '학교']}\n"
     ]
    }
   ],
   "source": [
    "del C_dic[2]\n",
    "D_dic=C_dic\n",
    "print(D_dic)"
   ]
  },
  {
   "cell_type": "code",
   "execution_count": null,
   "metadata": {},
   "outputs": [],
   "source": []
  }
 ],
 "metadata": {
  "kernelspec": {
   "display_name": "Python 3",
   "language": "python",
   "name": "python3"
  },
  "language_info": {
   "codemirror_mode": {
    "name": "ipython",
    "version": 3
   },
   "file_extension": ".py",
   "mimetype": "text/x-python",
   "name": "python",
   "nbconvert_exporter": "python",
   "pygments_lexer": "ipython3",
   "version": "3.7.3"
  }
 },
 "nbformat": 4,
 "nbformat_minor": 2
}
