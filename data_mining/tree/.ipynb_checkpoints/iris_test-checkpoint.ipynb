{
 "cells": [
  {
   "cell_type": "code",
   "execution_count": 4,
   "metadata": {},
   "outputs": [],
   "source": [
    "import pandas as pd\n",
    "from id3 import Id3Estimator, export_text, export_graphviz\n",
    "import numpy as np"
   ]
  },
  {
   "cell_type": "code",
   "execution_count": 21,
   "metadata": {},
   "outputs": [
    {
     "data": {
      "text/html": [
       "<div>\n",
       "<style scoped>\n",
       "    .dataframe tbody tr th:only-of-type {\n",
       "        vertical-align: middle;\n",
       "    }\n",
       "\n",
       "    .dataframe tbody tr th {\n",
       "        vertical-align: top;\n",
       "    }\n",
       "\n",
       "    .dataframe thead th {\n",
       "        text-align: right;\n",
       "    }\n",
       "</style>\n",
       "<table border=\"1\" class=\"dataframe\">\n",
       "  <thead>\n",
       "    <tr style=\"text-align: right;\">\n",
       "      <th></th>\n",
       "      <th>index</th>\n",
       "      <th>\"Sepal_Length\"</th>\n",
       "      <th>\"Sepal_Width\"</th>\n",
       "      <th>\"Petal_Length\"</th>\n",
       "      <th>\"Petal_Width\"</th>\n",
       "      <th>\"Species\"</th>\n",
       "    </tr>\n",
       "  </thead>\n",
       "  <tbody>\n",
       "    <tr>\n",
       "      <th>0</th>\n",
       "      <td>\"1\"</td>\n",
       "      <td>5.1</td>\n",
       "      <td>3.5</td>\n",
       "      <td>1.4</td>\n",
       "      <td>0.2</td>\n",
       "      <td>\"setosa\"</td>\n",
       "    </tr>\n",
       "    <tr>\n",
       "      <th>1</th>\n",
       "      <td>\"2\"</td>\n",
       "      <td>4.9</td>\n",
       "      <td>3.0</td>\n",
       "      <td>1.4</td>\n",
       "      <td>0.2</td>\n",
       "      <td>\"setosa\"</td>\n",
       "    </tr>\n",
       "    <tr>\n",
       "      <th>2</th>\n",
       "      <td>\"3\"</td>\n",
       "      <td>4.7</td>\n",
       "      <td>3.2</td>\n",
       "      <td>1.3</td>\n",
       "      <td>0.2</td>\n",
       "      <td>\"setosa\"</td>\n",
       "    </tr>\n",
       "    <tr>\n",
       "      <th>3</th>\n",
       "      <td>\"4\"</td>\n",
       "      <td>4.6</td>\n",
       "      <td>3.1</td>\n",
       "      <td>1.5</td>\n",
       "      <td>0.2</td>\n",
       "      <td>\"setosa\"</td>\n",
       "    </tr>\n",
       "    <tr>\n",
       "      <th>4</th>\n",
       "      <td>\"5\"</td>\n",
       "      <td>5.0</td>\n",
       "      <td>3.6</td>\n",
       "      <td>1.4</td>\n",
       "      <td>0.2</td>\n",
       "      <td>\"setosa\"</td>\n",
       "    </tr>\n",
       "  </tbody>\n",
       "</table>\n",
       "</div>"
      ],
      "text/plain": [
       "  index  \"Sepal_Length\"  \"Sepal_Width\"  \"Petal_Length\"  \"Petal_Width\"  \\\n",
       "0   \"1\"             5.1            3.5             1.4            0.2   \n",
       "1   \"2\"             4.9            3.0             1.4            0.2   \n",
       "2   \"3\"             4.7            3.2             1.3            0.2   \n",
       "3   \"4\"             4.6            3.1             1.5            0.2   \n",
       "4   \"5\"             5.0            3.6             1.4            0.2   \n",
       "\n",
       "  \"Species\"  \n",
       "0  \"setosa\"  \n",
       "1  \"setosa\"  \n",
       "2  \"setosa\"  \n",
       "3  \"setosa\"  \n",
       "4  \"setosa\"  "
      ]
     },
     "execution_count": 21,
     "metadata": {},
     "output_type": "execute_result"
    }
   ],
   "source": [
    "df=pd.read_csv('c://python/iris.csv')\n",
    "df.head()"
   ]
  },
  {
   "cell_type": "code",
   "execution_count": 41,
   "metadata": {},
   "outputs": [],
   "source": [
    "feature_names=['Sepal_Length','Sepal_Width','Petal_Length','Petal_width']"
   ]
  },
  {
   "cell_type": "code",
   "execution_count": 42,
   "metadata": {},
   "outputs": [],
   "source": [
    "xList=[0 for i in range(len(df))]\n",
    "for i in range(len(df)):\n",
    "    xList[i]=list(df.loc[i,'\"Sepal_Length\"':'\"Petal_Width\"'])"
   ]
  },
  {
   "cell_type": "code",
   "execution_count": 43,
   "metadata": {},
   "outputs": [],
   "source": [
    "X=np.array(xList)"
   ]
  },
  {
   "cell_type": "code",
   "execution_count": 44,
   "metadata": {},
   "outputs": [],
   "source": [
    "y=np.array(list(df['\"Species\"']))"
   ]
  },
  {
   "cell_type": "code",
   "execution_count": 45,
   "metadata": {},
   "outputs": [
    {
     "name": "stdout",
     "output_type": "stream",
     "text": [
      "\n",
      "Petal_Length <=2.45: \"setosa\" (50) \n",
      "Petal_Length >2.45\n",
      "|   Petal_width <=1.75\n",
      "|   |   Sepal_Length <=7.10\n",
      "|   |   |   Sepal_Width <=2.85: \"versicolor\" (27/4) \n",
      "|   |   |   Sepal_Width >2.85: \"versicolor\" (22) \n",
      "|   |   Sepal_Length >7.10: \"virginica\" (1) \n",
      "|   Petal_width >1.75\n",
      "|   |   Sepal_Length <=5.95\n",
      "|   |   |   Sepal_Width <=3.10: \"virginica\" (6) \n",
      "|   |   |   Sepal_Width >3.10: \"versicolor\" (1) \n",
      "|   |   Sepal_Length >5.95: \"virginica\" (39) \n",
      "\n"
     ]
    }
   ],
   "source": [
    "clf=Id3Estimator()\n",
    "clf.fit(X,y,check_input=True)\n",
    "\n",
    "print(export_text(clf.tree_,feature_names))"
   ]
  },
  {
   "cell_type": "code",
   "execution_count": null,
   "metadata": {},
   "outputs": [],
   "source": []
  }
 ],
 "metadata": {
  "kernelspec": {
   "display_name": "Python 3",
   "language": "python",
   "name": "python3"
  },
  "language_info": {
   "codemirror_mode": {
    "name": "ipython",
    "version": 3
   },
   "file_extension": ".py",
   "mimetype": "text/x-python",
   "name": "python",
   "nbconvert_exporter": "python",
   "pygments_lexer": "ipython3",
   "version": "3.7.3"
  }
 },
 "nbformat": 4,
 "nbformat_minor": 2
}
