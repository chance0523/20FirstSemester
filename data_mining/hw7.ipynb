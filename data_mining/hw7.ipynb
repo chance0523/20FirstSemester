{
 "cells": [
  {
   "cell_type": "code",
   "execution_count": 1,
   "metadata": {},
   "outputs": [
    {
     "name": "stdout",
     "output_type": "stream",
     "text": [
      "apple     2500\n",
      "banana    3800\n",
      "peer      1200\n",
      "cherry    6000\n",
      "dtype: int64\n"
     ]
    }
   ],
   "source": [
    "### import\n",
    "from pandas import Series, DataFrame\n",
    "import pandas as pd\n",
    "### series\n",
    "fruit = Series([2500,3800,1200,6000], index=['apple','banana','peer','cherry'])\n",
    "print(fruit)"
   ]
  },
  {
   "cell_type": "code",
   "execution_count": 2,
   "metadata": {},
   "outputs": [
    {
     "name": "stdout",
     "output_type": "stream",
     "text": [
      "[2500 3800 1200 6000]\n",
      "Index(['apple', 'banana', 'peer', 'cherry'], dtype='object')\n"
     ]
    }
   ],
   "source": [
    "fruit = Series([2500,3800,1200,6000], index=['apple','banana','peer','cherry'])\n",
    "print(fruit.values)\n",
    "print(fruit.index)"
   ]
  },
  {
   "cell_type": "code",
   "execution_count": 3,
   "metadata": {},
   "outputs": [
    {
     "name": "stdout",
     "output_type": "stream",
     "text": [
      "<class 'dict'>\n",
      "<class 'pandas.core.series.Series'>\n"
     ]
    }
   ],
   "source": [
    "### Series()\n",
    "fruitData={'apple':2500,'banana':3800,'peer':1200,'cherry':6000}\n",
    "fruit=Series(fruitData)\n",
    "print(type(fruitData))\n",
    "print(type(fruit))"
   ]
  },
  {
   "cell_type": "code",
   "execution_count": 4,
   "metadata": {},
   "outputs": [
    {
     "name": "stdout",
     "output_type": "stream",
     "text": [
      "fruitName\n",
      "apple     2500\n",
      "banana    3800\n",
      "peer      1200\n",
      "cherry    6000\n",
      "Name: fruitPrice, dtype: int64\n"
     ]
    }
   ],
   "source": [
    "### name\n",
    "fruit = Series([2500,3800,1200,6000], index=['apple','banana','peer','cherry'])\n",
    "fruit.name='fruitPrice'\n",
    "fruit.index.name='fruitName'\n",
    "print(fruit)"
   ]
  },
  {
   "cell_type": "code",
   "execution_count": 5,
   "metadata": {},
   "outputs": [
    {
     "name": "stdout",
     "output_type": "stream",
     "text": [
      "  fruitName  fruitPrice  num\n",
      "0     apple        2500   10\n",
      "1    banana        3800    5\n",
      "2    cherry        6000    3\n",
      "3      peer        1200    8\n"
     ]
    }
   ],
   "source": [
    "### Dataframe()\n",
    "fruitData = {'fruitName':['apple','banana','cherry','peer'],\n",
    "            'fruitPrice':[2500,3800,6000,1200],\n",
    "            'num':[10,5,3,8]}\n",
    "fruitFrame=DataFrame(fruitData)\n",
    "print(fruitFrame)"
   ]
  },
  {
   "cell_type": "code",
   "execution_count": 6,
   "metadata": {},
   "outputs": [
    {
     "name": "stdout",
     "output_type": "stream",
     "text": [
      "   fruitPrice  num fruitName\n",
      "0        2500   10     apple\n",
      "1        3800    5    banana\n",
      "2        6000    3    cherry\n",
      "3        1200    8      peer\n"
     ]
    }
   ],
   "source": [
    "### columns\n",
    "fruitData = {'fruitName':['apple','banana','cherry','peer'],\n",
    "            'fruitPrice':[2500,3800,6000,1200],\n",
    "            'num':[10,5,3,8]}\n",
    "fruitFrame = DataFrame(fruitData,columns=['fruitPrice','num','fruitName'])\n",
    "print(fruitFrame)"
   ]
  },
  {
   "cell_type": "code",
   "execution_count": 7,
   "metadata": {},
   "outputs": [
    {
     "name": "stdout",
     "output_type": "stream",
     "text": [
      "0     apple\n",
      "1    banana\n",
      "2    cherry\n",
      "3      peer\n",
      "Name: fruitName, dtype: object\n"
     ]
    }
   ],
   "source": [
    "### 사전형식\n",
    "print(fruitFrame['fruitName'])"
   ]
  },
  {
   "cell_type": "code",
   "execution_count": 8,
   "metadata": {},
   "outputs": [
    {
     "name": "stdout",
     "output_type": "stream",
     "text": [
      "0     apple\n",
      "1    banana\n",
      "2    cherry\n",
      "3      peer\n",
      "Name: fruitName, dtype: object\n"
     ]
    }
   ],
   "source": [
    "### 속성형식\n",
    "print(fruitFrame.fruitName)"
   ]
  },
  {
   "cell_type": "code",
   "execution_count": 9,
   "metadata": {},
   "outputs": [
    {
     "name": "stdout",
     "output_type": "stream",
     "text": [
      "   fruitPrice  num fruitName  year\n",
      "0        2500   10     apple  2016\n",
      "1        3800    5    banana  2016\n",
      "2        6000    3    cherry  2016\n",
      "3        1200    8      peer  2016\n"
     ]
    }
   ],
   "source": [
    "### 컬럼 추가하기 - 같은 값\n",
    "fruitFrame['year'] = 2016\n",
    "print(fruitFrame)"
   ]
  },
  {
   "cell_type": "code",
   "execution_count": 10,
   "metadata": {},
   "outputs": [
    {
     "name": "stdout",
     "output_type": "stream",
     "text": [
      "   fruitPrice  num fruitName  year  stock\n",
      "0        2500   10     apple  2016    4.0\n",
      "1        3800    5    banana  2016    NaN\n",
      "2        6000    3    cherry  2016    2.0\n",
      "3        1200    8      peer  2016    1.0\n"
     ]
    }
   ],
   "source": [
    "### 컬럼 추가하기 - 다른 값\n",
    "variable=Series([4,2,1],index=[0,2,3])\n",
    "fruitFrame['stock'] = variable\n",
    "print(fruitFrame)"
   ]
  },
  {
   "cell_type": "code",
   "execution_count": 11,
   "metadata": {},
   "outputs": [
    {
     "name": "stdout",
     "output_type": "stream",
     "text": [
      "apple     2500\n",
      "banana    3800\n",
      "peer      1200\n",
      "cherry    6000\n",
      "dtype: int64\n",
      "apple     2500\n",
      "peer      1200\n",
      "cherry    6000\n",
      "dtype: int64\n"
     ]
    }
   ],
   "source": [
    "### row 삭제하기 drop()\n",
    "fruit = Series([2500,3800,1200,6000], index=['apple','banana','peer','cherry'])\n",
    "new_fruit=fruit.drop('banana')\n",
    "print(fruit)\n",
    "print(new_fruit)"
   ]
  },
  {
   "cell_type": "code",
   "execution_count": 12,
   "metadata": {},
   "outputs": [
    {
     "name": "stdout",
     "output_type": "stream",
     "text": [
      "        fruitPrice  num\n",
      "apple         2500   10\n",
      "banana        3800    5\n",
      "cherry        6000    3\n",
      "peer          1200    8\n",
      "        fruitPrice  num\n",
      "banana        3800    5\n",
      "peer          1200    8\n"
     ]
    }
   ],
   "source": [
    "### row 삭제하기 drop()\n",
    "fruitData = {'fruitName':['apple','banana','cherry','peer'],\n",
    "            'fruitPrice':[2500,3800,6000,1200],\n",
    "            'num':[10,5,3,8]}\n",
    "fruitName=fruitData['fruitName']\n",
    "fruitFrame = DataFrame(fruitData,index=fruitName,columns=['fruitPrice','num'])\n",
    "fruitFrame2 = fruitFrame.drop(['apple','cherry'])\n",
    "print(fruitFrame)\n",
    "print(fruitFrame2)"
   ]
  },
  {
   "cell_type": "code",
   "execution_count": 13,
   "metadata": {},
   "outputs": [
    {
     "name": "stdout",
     "output_type": "stream",
     "text": [
      "        fruitPrice  num\n",
      "apple         2500   10\n",
      "banana        3800    5\n",
      "cherry        6000    3\n",
      "peer          1200    8\n",
      "        fruitPrice\n",
      "apple         2500\n",
      "banana        3800\n",
      "cherry        6000\n",
      "peer          1200\n"
     ]
    }
   ],
   "source": [
    "### column 삭제하기 drop()\n",
    "fruitFrame3 = fruitFrame.drop('num',axis=1)\n",
    "print(fruitFrame)\n",
    "print(fruitFrame3)"
   ]
  },
  {
   "cell_type": "code",
   "execution_count": 14,
   "metadata": {},
   "outputs": [
    {
     "data": {
      "text/plain": [
       "apple     2500\n",
       "banana    3800\n",
       "peer      1200\n",
       "dtype: int64"
      ]
     },
     "execution_count": 14,
     "metadata": {},
     "output_type": "execute_result"
    }
   ],
   "source": [
    "### Series Slice\n",
    "fruit = Series([2500,3800,1200,6000], index=['apple','banana','peer','cherry'])\n",
    "fruit['apple':'peer']"
   ]
  },
  {
   "cell_type": "code",
   "execution_count": 16,
   "metadata": {},
   "outputs": [
    {
     "name": "stdout",
     "output_type": "stream",
     "text": [
      "        fruitPrice  num\n",
      "apple         2500   10\n",
      "banana        3800    5\n",
      "cherry        6000    3\n",
      "peer          1200    8\n",
      "apple     2500\n",
      "banana    3800\n",
      "cherry    6000\n",
      "peer      1200\n",
      "Name: fruitPrice, dtype: int64\n",
      "        fruitPrice  num\n",
      "apple         2500   10\n",
      "banana        3800    5\n"
     ]
    }
   ],
   "source": [
    "fruitData = {'fruitName':['apple','banana','cherry','peer'],\n",
    "            'fruitPrice':[2500,3800,6000,1200],\n",
    "            'num':[10,5,3,8]}\n",
    "fruitName=fruitData['fruitName']\n",
    "fruitFrame = DataFrame(fruitData,index=fruitName,columns=['fruitPrice','num'])\n",
    "print(fruitFrame)\n",
    "print(fruitFrame['fruitPrice'])\n",
    "print(fruitFrame['apple':'banana'])"
   ]
  },
  {
   "cell_type": "code",
   "execution_count": 17,
   "metadata": {},
   "outputs": [
    {
     "name": "stdout",
     "output_type": "stream",
     "text": [
      "apple      5\n",
      "banana     9\n",
      "cherry    10\n",
      "peer       3\n",
      "dtype: int64\n",
      "apple      3\n",
      "orange     2\n",
      "banana     9\n",
      "cherry     5\n",
      "mango     10\n",
      "dtype: int64\n",
      "apple      8.0\n",
      "banana    18.0\n",
      "cherry    15.0\n",
      "mango      NaN\n",
      "orange     NaN\n",
      "peer       NaN\n",
      "dtype: float64\n"
     ]
    }
   ],
   "source": [
    "### Series 연산\n",
    "fruit1=Series([5,9,10,3],index=['apple','banana','cherry','peer'])\n",
    "fruit2=Series([3,2,9,5,10],index=['apple','orange','banana','cherry','mango'])\n",
    "print(fruit1)\n",
    "print(fruit2)\n",
    "print(fruit1+fruit2)"
   ]
  },
  {
   "cell_type": "code",
   "execution_count": 18,
   "metadata": {},
   "outputs": [
    {
     "name": "stdout",
     "output_type": "stream",
     "text": [
      "        Ohio  Texas\n",
      "apple      4      0\n",
      "banana     8      1\n",
      "cherry     3      2\n",
      "peer       5      3\n",
      "        Ohio  Colorado\n",
      "apple      3         5\n",
      "orange     0         4\n",
      "banana     2         3\n",
      "cherry     1         6\n",
      "mango      7         0\n",
      "        Colorado  Ohio  Texas\n",
      "apple        NaN   7.0    NaN\n",
      "banana       NaN  10.0    NaN\n",
      "cherry       NaN   4.0    NaN\n",
      "mango        NaN   NaN    NaN\n",
      "orange       NaN   NaN    NaN\n",
      "peer         NaN   NaN    NaN\n"
     ]
    }
   ],
   "source": [
    "### DataFrame 연산\n",
    "fruitData1 = {'Ohio':[4,8,3,5],'Texas':[0,1,2,3]}\n",
    "fruitFrame1 = DataFrame(fruitData1,columns=['Ohio','Texas'],index=['apple','banana','cherry','peer'])\n",
    "fruitData2 = {'Ohio':[3,0,2,1,7],'Colorado':[5,4,3,6,0]}\n",
    "fruitFrame2 = DataFrame(fruitData2,columns=['Ohio','Colorado'],index=['apple','orange','banana','cherry','mango'])\n",
    "print(fruitFrame1)\n",
    "print(fruitFrame2)\n",
    "print(fruitFrame1+fruitFrame2)"
   ]
  },
  {
   "cell_type": "code",
   "execution_count": 19,
   "metadata": {},
   "outputs": [
    {
     "data": {
      "text/plain": [
       "cherry    6000\n",
       "banana    3800\n",
       "apple     2500\n",
       "peer      1200\n",
       "dtype: int64"
      ]
     },
     "execution_count": 19,
     "metadata": {},
     "output_type": "execute_result"
    }
   ],
   "source": [
    "### Series 정렬\n",
    "fruit = Series([2500,3800,1200,6000], index=['apple','banana','peer','cherry'])\n",
    "fruit.sort_values(ascending=False)"
   ]
  },
  {
   "cell_type": "code",
   "execution_count": 20,
   "metadata": {},
   "outputs": [
    {
     "name": "stdout",
     "output_type": "stream",
     "text": [
      "        num  fruitPrice\n",
      "apple    10        2500\n",
      "banana    5        3800\n",
      "cherry    3        6000\n",
      "peer      8        1200\n",
      "        num  fruitPrice\n",
      "apple    10        2500\n",
      "banana    5        3800\n",
      "cherry    3        6000\n",
      "peer      8        1200\n",
      "        fruitPrice  num\n",
      "apple         2500   10\n",
      "banana        3800    5\n",
      "cherry        6000    3\n",
      "peer          1200    8\n"
     ]
    }
   ],
   "source": [
    "### DataFrame 정렬\n",
    "fruitData = {'fruitName':['apple','banana','cherry','peer'],\n",
    "            'fruitPrice':[2500,3800,6000,1200],\n",
    "            'num':[10,5,3,8]}\n",
    "fruitName=fruitData['fruitName']\n",
    "fruitFrame = DataFrame(fruitData,index=fruitName,columns=['num','fruitPrice'])\n",
    "\n",
    "print(fruitFrame)\n",
    "print(fruitFrame.sort_index())\n",
    "print(fruitFrame.sort_index(axis=1))"
   ]
  },
  {
   "cell_type": "code",
   "execution_count": 21,
   "metadata": {},
   "outputs": [
    {
     "name": "stdout",
     "output_type": "stream",
     "text": [
      "        num  fruitPrice\n",
      "peer      8        1200\n",
      "apple    10        2500\n",
      "banana    5        3800\n",
      "cherry    3        6000\n"
     ]
    }
   ],
   "source": [
    "### DataFrame 값 정렬\n",
    "print(fruitFrame.sort_values(by=['fruitPrice']))"
   ]
  },
  {
   "cell_type": "code",
   "execution_count": 23,
   "metadata": {},
   "outputs": [
    {
     "data": {
      "text/plain": [
       "['Creditability',\n",
       " 'Account Balance',\n",
       " 'Duration of Credit (month)',\n",
       " 'Payment Status of Previous Credit',\n",
       " 'Purpose',\n",
       " 'Credit Amount',\n",
       " 'Value Savings/Stocks',\n",
       " 'Length of current employment',\n",
       " 'Instalment per cent',\n",
       " 'Sex & Marital Status',\n",
       " 'Guarantors',\n",
       " 'Duration in Current address',\n",
       " 'Most valuable available asset',\n",
       " 'Age (years)',\n",
       " 'Concurrent Credits',\n",
       " 'Type of apartment',\n",
       " 'No of Credits at this Bank',\n",
       " 'Occupation',\n",
       " 'No of dependents',\n",
       " 'Telephone',\n",
       " 'Foreign Worker']"
      ]
     },
     "execution_count": 23,
     "metadata": {},
     "output_type": "execute_result"
    }
   ],
   "source": [
    "### Pandas를 이용한 데이터 입력\n",
    "german =pd.read_csv('http://freakonometrics.free.fr/german_credit.csv')\n",
    "print(list(german.columns.values))"
   ]
  },
  {
   "cell_type": "code",
   "execution_count": 28,
   "metadata": {},
   "outputs": [
    {
     "name": "stdout",
     "output_type": "stream",
     "text": [
      "Creditability                          0\n",
      "Account Balance                        1\n",
      "Duration of Credit (month)             4\n",
      "Payment Status of Previous Credit      0\n",
      "Purpose                                0\n",
      "Credit Amount                        250\n",
      "Value Savings/Stocks                   1\n",
      "Length of current employment           1\n",
      "Instalment per cent                    1\n",
      "Sex & Marital Status                   1\n",
      "Guarantors                             1\n",
      "Duration in Current address            1\n",
      "Most valuable available asset          1\n",
      "Age (years)                           19\n",
      "Concurrent Credits                     1\n",
      "Type of apartment                      1\n",
      "No of Credits at this Bank             1\n",
      "Occupation                             1\n",
      "No of dependents                       1\n",
      "Telephone                              1\n",
      "Foreign Worker                         1\n",
      "dtype: int64\n"
     ]
    }
   ],
   "source": [
    "### min\n",
    "print(german.min())"
   ]
  },
  {
   "cell_type": "code",
   "execution_count": 29,
   "metadata": {},
   "outputs": [
    {
     "name": "stdout",
     "output_type": "stream",
     "text": [
      "Creditability                            1\n",
      "Account Balance                          4\n",
      "Duration of Credit (month)              72\n",
      "Payment Status of Previous Credit        4\n",
      "Purpose                                 10\n",
      "Credit Amount                        18424\n",
      "Value Savings/Stocks                     5\n",
      "Length of current employment             5\n",
      "Instalment per cent                      4\n",
      "Sex & Marital Status                     4\n",
      "Guarantors                               3\n",
      "Duration in Current address              4\n",
      "Most valuable available asset            4\n",
      "Age (years)                             75\n",
      "Concurrent Credits                       3\n",
      "Type of apartment                        3\n",
      "No of Credits at this Bank               4\n",
      "Occupation                               4\n",
      "No of dependents                         2\n",
      "Telephone                                2\n",
      "Foreign Worker                           2\n",
      "dtype: int64\n"
     ]
    }
   ],
   "source": [
    "### max\n",
    "print(german.max())"
   ]
  },
  {
   "cell_type": "code",
   "execution_count": 31,
   "metadata": {},
   "outputs": [
    {
     "name": "stdout",
     "output_type": "stream",
     "text": [
      "Creditability                           0.700\n",
      "Account Balance                         2.577\n",
      "Duration of Credit (month)             20.903\n",
      "Payment Status of Previous Credit       2.545\n",
      "Purpose                                 2.828\n",
      "Credit Amount                        3271.248\n",
      "Value Savings/Stocks                    2.105\n",
      "Length of current employment            3.384\n",
      "Instalment per cent                     2.973\n",
      "Sex & Marital Status                    2.682\n",
      "Guarantors                              1.145\n",
      "Duration in Current address             2.845\n",
      "Most valuable available asset           2.358\n",
      "Age (years)                            35.542\n",
      "Concurrent Credits                      2.675\n",
      "Type of apartment                       1.928\n",
      "No of Credits at this Bank              1.407\n",
      "Occupation                              2.904\n",
      "No of dependents                        1.155\n",
      "Telephone                               1.404\n",
      "Foreign Worker                          1.037\n",
      "dtype: float64\n"
     ]
    }
   ],
   "source": [
    "### mean\n",
    "print(german.mean())"
   ]
  },
  {
   "cell_type": "code",
   "execution_count": 32,
   "metadata": {},
   "outputs": [
    {
     "name": "stdout",
     "output_type": "stream",
     "text": [
      "       Creditability  Account Balance  Duration of Credit (month)  \\\n",
      "count    1000.000000      1000.000000                 1000.000000   \n",
      "mean        0.700000         2.577000                   20.903000   \n",
      "std         0.458487         1.257638                   12.058814   \n",
      "min         0.000000         1.000000                    4.000000   \n",
      "25%         0.000000         1.000000                   12.000000   \n",
      "50%         1.000000         2.000000                   18.000000   \n",
      "75%         1.000000         4.000000                   24.000000   \n",
      "max         1.000000         4.000000                   72.000000   \n",
      "\n",
      "       Payment Status of Previous Credit      Purpose  Credit Amount  \\\n",
      "count                         1000.00000  1000.000000     1000.00000   \n",
      "mean                             2.54500     2.828000     3271.24800   \n",
      "std                              1.08312     2.744439     2822.75176   \n",
      "min                              0.00000     0.000000      250.00000   \n",
      "25%                              2.00000     1.000000     1365.50000   \n",
      "50%                              2.00000     2.000000     2319.50000   \n",
      "75%                              4.00000     3.000000     3972.25000   \n",
      "max                              4.00000    10.000000    18424.00000   \n",
      "\n",
      "       Value Savings/Stocks  Length of current employment  \\\n",
      "count           1000.000000                   1000.000000   \n",
      "mean               2.105000                      3.384000   \n",
      "std                1.580023                      1.208306   \n",
      "min                1.000000                      1.000000   \n",
      "25%                1.000000                      3.000000   \n",
      "50%                1.000000                      3.000000   \n",
      "75%                3.000000                      5.000000   \n",
      "max                5.000000                      5.000000   \n",
      "\n",
      "       Instalment per cent  Sex & Marital Status  ...  \\\n",
      "count          1000.000000            1000.00000  ...   \n",
      "mean              2.973000               2.68200  ...   \n",
      "std               1.118715               0.70808  ...   \n",
      "min               1.000000               1.00000  ...   \n",
      "25%               2.000000               2.00000  ...   \n",
      "50%               3.000000               3.00000  ...   \n",
      "75%               4.000000               3.00000  ...   \n",
      "max               4.000000               4.00000  ...   \n",
      "\n",
      "       Duration in Current address  Most valuable available asset  \\\n",
      "count                  1000.000000                    1000.000000   \n",
      "mean                      2.845000                       2.358000   \n",
      "std                       1.103718                       1.050209   \n",
      "min                       1.000000                       1.000000   \n",
      "25%                       2.000000                       1.000000   \n",
      "50%                       3.000000                       2.000000   \n",
      "75%                       4.000000                       3.000000   \n",
      "max                       4.000000                       4.000000   \n",
      "\n",
      "       Age (years)  Concurrent Credits  Type of apartment  \\\n",
      "count   1000.00000         1000.000000        1000.000000   \n",
      "mean      35.54200            2.675000           1.928000   \n",
      "std       11.35267            0.705601           0.530186   \n",
      "min       19.00000            1.000000           1.000000   \n",
      "25%       27.00000            3.000000           2.000000   \n",
      "50%       33.00000            3.000000           2.000000   \n",
      "75%       42.00000            3.000000           2.000000   \n",
      "max       75.00000            3.000000           3.000000   \n",
      "\n",
      "       No of Credits at this Bank   Occupation  No of dependents    Telephone  \\\n",
      "count                 1000.000000  1000.000000       1000.000000  1000.000000   \n",
      "mean                     1.407000     2.904000          1.155000     1.404000   \n",
      "std                      0.577654     0.653614          0.362086     0.490943   \n",
      "min                      1.000000     1.000000          1.000000     1.000000   \n",
      "25%                      1.000000     3.000000          1.000000     1.000000   \n",
      "50%                      1.000000     3.000000          1.000000     1.000000   \n",
      "75%                      2.000000     3.000000          1.000000     2.000000   \n",
      "max                      4.000000     4.000000          2.000000     2.000000   \n",
      "\n",
      "       Foreign Worker  \n",
      "count     1000.000000  \n",
      "mean         1.037000  \n",
      "std          0.188856  \n",
      "min          1.000000  \n",
      "25%          1.000000  \n",
      "50%          1.000000  \n",
      "75%          1.000000  \n",
      "max          2.000000  \n",
      "\n",
      "[8 rows x 21 columns]\n"
     ]
    }
   ],
   "source": [
    "### 요약통계량 describe\n",
    "print(german.describe())"
   ]
  },
  {
   "cell_type": "code",
   "execution_count": 36,
   "metadata": {},
   "outputs": [
    {
     "name": "stdout",
     "output_type": "stream",
     "text": [
      "                            Duration of Credit (month)  Credit Amount  \\\n",
      "Duration of Credit (month)                    1.000000       0.624988   \n",
      "Credit Amount                                 0.624988       1.000000   \n",
      "Age (years)                                  -0.037550       0.032273   \n",
      "\n",
      "                            Age (years)  \n",
      "Duration of Credit (month)    -0.037550  \n",
      "Credit Amount                  0.032273  \n",
      "Age (years)                    1.000000  \n",
      "                            Duration of Credit (month)  Credit Amount  \\\n",
      "Duration of Credit (month)                  145.415006   2.127401e+04   \n",
      "Credit Amount                             21274.007063   7.967927e+06   \n",
      "Age (years)                                  -5.140567   1.034203e+03   \n",
      "\n",
      "                            Age (years)  \n",
      "Duration of Credit (month)    -5.140567  \n",
      "Credit Amount               1034.202787  \n",
      "Age (years)                  128.883119  \n"
     ]
    }
   ],
   "source": [
    "### corr cov\n",
    "german =pd.read_csv('http://freakonometrics.free.fr/german_credit.csv')\n",
    "german_sample = german[['Duration of Credit (month)','Credit Amount','Age (years)']]\n",
    "print(german_sample.corr())\n",
    "print(german_sample.cov())"
   ]
  },
  {
   "cell_type": "code",
   "execution_count": 39,
   "metadata": {},
   "outputs": [
    {
     "data": {
      "text/plain": [
       "Type of apartment\n",
       "1    3122.553073\n",
       "2    3067.257703\n",
       "3    4881.205607\n",
       "Name: Credit Amount, dtype: float64"
      ]
     },
     "execution_count": 39,
     "metadata": {},
     "output_type": "execute_result"
    }
   ],
   "source": [
    "### 한개 group\n",
    "german =pd.read_csv('http://freakonometrics.free.fr/german_credit.csv')\n",
    "german_sample = german[['Type of apartment','Sex & Marital Status','Credit Amount']]\n",
    "german_grouped = german_sample['Credit Amount'].groupby(german_sample['Type of apartment'])\n",
    "print(german_grouped.mean())"
   ]
  },
  {
   "cell_type": "code",
   "execution_count": 42,
   "metadata": {},
   "outputs": [
    {
     "name": "stdout",
     "output_type": "stream",
     "text": [
      "Purpose  Type of apartment\n",
      "0        1                    2597.225000\n",
      "         2                    2811.024242\n",
      "         3                    5138.689655\n",
      "1        1                    5037.086957\n",
      "         2                    4915.222222\n",
      "         3                    6609.923077\n",
      "2        1                    2727.354167\n",
      "         2                    3107.450820\n",
      "         3                    4100.181818\n",
      "3        1                    2199.763158\n",
      "         2                    2540.533040\n",
      "         3                    2417.333333\n",
      "4        1                    1255.500000\n",
      "         2                    1546.500000\n",
      "5        1                    1522.000000\n",
      "         2                    2866.000000\n",
      "         3                    2750.666667\n",
      "6        1                    3156.444444\n",
      "         2                    2492.423077\n",
      "         3                    4387.266667\n",
      "8        1                     902.000000\n",
      "         2                    1243.875000\n",
      "9        1                    5614.125000\n",
      "         2                    3800.592105\n",
      "         3                    4931.800000\n",
      "10       2                    8576.111111\n",
      "         3                    7109.000000\n",
      "Name: Credit Amount, dtype: float64\n"
     ]
    }
   ],
   "source": [
    "### 두개 group\n",
    "german_sample = german[['Type of apartment','Purpose','Credit Amount']]\n",
    "german_grouped2 = german_sample['Credit Amount'].groupby([german_sample['Purpose'],german_sample['Type of apartment']])\n",
    "print(german_grouped2.mean())"
   ]
  },
  {
   "cell_type": "code",
   "execution_count": 43,
   "metadata": {},
   "outputs": [
    {
     "name": "stdout",
     "output_type": "stream",
     "text": [
      "1\n",
      "   Type of apartment  Sex & Marital Status  Credit Amount\n",
      "0                  1                     2           1049\n",
      "1                  1                     3           2799\n",
      "2                  1                     2            841\n",
      "2\n",
      "   Type of apartment  Sex & Marital Status  Credit Amount\n",
      "4                  2                     3           2171\n",
      "6                  2                     3           3398\n",
      "7                  2                     3           1361\n",
      "3\n",
      "    Type of apartment  Sex & Marital Status  Credit Amount\n",
      "29                  3                     3           4796\n",
      "44                  3                     3           1239\n",
      "69                  3                     3           2032\n"
     ]
    }
   ],
   "source": [
    "### group 한 개 반복\n",
    "german_sample=german[['Type of apartment','Sex & Marital Status','Credit Amount']]\n",
    "for type, group in german_sample.groupby('Type of apartment'):\n",
    "    print(type)\n",
    "    print(group.head(n=3))"
   ]
  },
  {
   "cell_type": "code",
   "execution_count": 44,
   "metadata": {},
   "outputs": [
    {
     "name": "stdout",
     "output_type": "stream",
     "text": [
      "(1, 1)\n",
      "     Type of apartment  Sex & Marital Status  Credit Amount\n",
      "369                  1                     1           3021\n",
      "777                  1                     1           3384\n",
      "797                  1                     1           2319\n",
      "(1, 2)\n",
      "   Type of apartment  Sex & Marital Status  Credit Amount\n",
      "0                  1                     2           1049\n",
      "2                  1                     2            841\n",
      "9                  1                     2           3758\n",
      "(1, 3)\n",
      "   Type of apartment  Sex & Marital Status  Credit Amount\n",
      "1                  1                     3           2799\n",
      "3                  1                     3           2122\n",
      "5                  1                     3           2241\n",
      "(1, 4)\n",
      "    Type of apartment  Sex & Marital Status  Credit Amount\n",
      "11                  1                     4           6187\n",
      "14                  1                     4           1936\n",
      "17                  1                     4           3213\n",
      "(2, 1)\n",
      "     Type of apartment  Sex & Marital Status  Credit Amount\n",
      "50                   2                     1            640\n",
      "97                   2                     1           4455\n",
      "112                  2                     1           2366\n",
      "(2, 2)\n",
      "    Type of apartment  Sex & Marital Status  Credit Amount\n",
      "8                   2                     2           1098\n",
      "12                  2                     2           1957\n",
      "33                  2                     2           1376\n",
      "(2, 3)\n",
      "   Type of apartment  Sex & Marital Status  Credit Amount\n",
      "4                  2                     3           2171\n",
      "6                  2                     3           3398\n",
      "7                  2                     3           1361\n",
      "(2, 4)\n",
      "    Type of apartment  Sex & Marital Status  Credit Amount\n",
      "48                  2                     4           1474\n",
      "57                  2                     4           1053\n",
      "78                  2                     4           1602\n",
      "(3, 1)\n",
      "     Type of apartment  Sex & Marital Status  Credit Amount\n",
      "620                  3                     1           9277\n",
      "749                  3                     1           2892\n",
      "784                  3                     1           2149\n",
      "(3, 2)\n",
      "     Type of apartment  Sex & Marital Status  Credit Amount\n",
      "423                  3                     2           2133\n",
      "453                  3                     2           5743\n",
      "467                  3                     2           5324\n",
      "(3, 3)\n",
      "    Type of apartment  Sex & Marital Status  Credit Amount\n",
      "29                  3                     3           4796\n",
      "44                  3                     3           1239\n",
      "69                  3                     3           2032\n",
      "(3, 4)\n",
      "     Type of apartment  Sex & Marital Status  Credit Amount\n",
      "125                  3                     4           5103\n"
     ]
    }
   ],
   "source": [
    "### group 두 개 반복\n",
    "for (type,sex), group in german_sample.groupby(['Type of apartment','Sex & Marital Status']):\n",
    "    print((type,sex))\n",
    "    print(group.head(n=3))"
   ]
  },
  {
   "cell_type": "code",
   "execution_count": null,
   "metadata": {},
   "outputs": [],
   "source": []
  }
 ],
 "metadata": {
  "kernelspec": {
   "display_name": "Python 3",
   "language": "python",
   "name": "python3"
  },
  "language_info": {
   "codemirror_mode": {
    "name": "ipython",
    "version": 3
   },
   "file_extension": ".py",
   "mimetype": "text/x-python",
   "name": "python",
   "nbconvert_exporter": "python",
   "pygments_lexer": "ipython3",
   "version": "3.7.3"
  }
 },
 "nbformat": 4,
 "nbformat_minor": 2
}
